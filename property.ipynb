{
 "cells": [
  {
   "cell_type": "markdown",
   "id": "3c0264ae",
   "metadata": {},
   "source": [
    "Property is a decorator that implements faithfully accessor and Mutator in OOPs"
   ]
  },
  {
   "cell_type": "code",
   "execution_count": null,
   "id": "2dd5a0cc",
   "metadata": {},
   "outputs": [],
   "source": [
    "class Person:\n",
    "    def __init__(self, name):\n",
    "        self.name = name\n",
    "        self.salary = 0\n",
    "P = Person(\"Subhas\")\n",
    "P.salary = -100 ##(?)"
   ]
  },
  {
   "cell_type": "code",
   "execution_count": null,
   "id": "43d9db16",
   "metadata": {},
   "outputs": [],
   "source": [
    "This problem can be addressed with private attribute of the class.\n",
    "Private attribute in python are prefixed with '_'. "
   ]
  },
  {
   "cell_type": "code",
   "execution_count": null,
   "id": "ec2b054b",
   "metadata": {},
   "outputs": [],
   "source": [
    "In python we really do not have private attribute. "
   ]
  },
  {
   "cell_type": "code",
   "execution_count": null,
   "id": "621f13fc",
   "metadata": {},
   "outputs": [],
   "source": [
    "class Person:\n",
    "    def __init__(self, name):\n",
    "        self.name = name\n",
    "        self._salary = 0\n",
    "P = Person(\"Subhas\")\n",
    "P.salary = -100 ##(?)"
   ]
  },
  {
   "cell_type": "code",
   "execution_count": 9,
   "id": "2b48e103",
   "metadata": {},
   "outputs": [],
   "source": [
    "## Corey Schafer Video. \n",
    "class Person:\n",
    "    def __init__(self, name, value):\n",
    "        self.name = name\n",
    "        self.salary = value\n",
    "    @property\n",
    "    def email(self):\n",
    "        return f'{self.name}@email.com'"
   ]
  },
  {
   "cell_type": "code",
   "execution_count": 13,
   "id": "78c0bfd7",
   "metadata": {
    "collapsed": true
   },
   "outputs": [
    {
     "name": "stdout",
     "output_type": "stream",
     "text": [
      "Subhas@email.com\n"
     ]
    }
   ],
   "source": [
    "p = Person('Subhas', 'Hati')\n",
    "print(p.email)\n"
   ]
  },
  {
   "cell_type": "markdown",
   "id": "b8598a0d",
   "metadata": {},
   "source": [
    "The @property is a built-in decorator for the property() function \n",
    "in Python. It is used to give \"special\" functionality to certain \n",
    "methods to make them act as getters, setters, or deleters when we \n",
    "define properties in a class."
   ]
  },
  {
   "cell_type": "markdown",
   "id": "9211e981",
   "metadata": {},
   "source": [
    "[See freecodecamp website](https://www.freecodecamp.org/news/python-property-decorator/#:~:text=The%20%40property%20is%20a%20built,define%20properties%20in%20a%20class)"
   ]
  },
  {
   "cell_type": "code",
   "execution_count": 25,
   "id": "5deaae04",
   "metadata": {
    "collapsed": true
   },
   "outputs": [
    {
     "name": "stdout",
     "output_type": "stream",
     "text": [
      "100000.0\n",
      "100000\n",
      "Coming Here\n",
      "100000\n"
     ]
    },
    {
     "ename": "AttributeError",
     "evalue": "'House' object has no attribute '_price'",
     "output_type": "error",
     "traceback": [
      "\u001b[0;31m---------------------------------------------------------------------------\u001b[0m",
      "\u001b[0;31mAttributeError\u001b[0m                            Traceback (most recent call last)",
      "Cell \u001b[0;32mIn[25], line 29\u001b[0m\n\u001b[1;32m     27\u001b[0m \u001b[38;5;28mprint\u001b[39m(\u001b[38;5;124m'\u001b[39m\u001b[38;5;124mComing Here\u001b[39m\u001b[38;5;124m'\u001b[39m)\n\u001b[1;32m     28\u001b[0m \u001b[38;5;28mprint\u001b[39m(h2\u001b[38;5;241m.\u001b[39mprice)\n\u001b[0;32m---> 29\u001b[0m \u001b[38;5;28mprint\u001b[39m(\u001b[43mh1\u001b[49m\u001b[38;5;241;43m.\u001b[39;49m\u001b[43mprice\u001b[49m)\n",
      "Cell \u001b[0;32mIn[25], line 8\u001b[0m, in \u001b[0;36mHouse.price\u001b[0;34m(self)\u001b[0m\n\u001b[1;32m      6\u001b[0m \u001b[38;5;129m@property\u001b[39m\n\u001b[1;32m      7\u001b[0m \u001b[38;5;28;01mdef\u001b[39;00m \u001b[38;5;21mprice\u001b[39m(\u001b[38;5;28mself\u001b[39m):\n\u001b[0;32m----> 8\u001b[0m     \u001b[38;5;28;01mreturn\u001b[39;00m \u001b[38;5;28;43mself\u001b[39;49m\u001b[38;5;241;43m.\u001b[39;49m\u001b[43m_price\u001b[49m\n",
      "\u001b[0;31mAttributeError\u001b[0m: 'House' object has no attribute '_price'"
     ]
    }
   ],
   "source": [
    "class House:\n",
    "\n",
    "    def __init__(self, price):\n",
    "        self._price = price\n",
    "\n",
    "    @property\n",
    "    def price(self):\n",
    "        return self._price\n",
    "    \n",
    "    @price.setter\n",
    "    def price(self, new_price):\n",
    "        if new_price > 0 and isinstance(new_price, float):\n",
    "            self._price = new_price\n",
    "        else:\n",
    "            print(\"Please enter a valid price\")\n",
    "\n",
    "    @price.deleter\n",
    "    def price(self):\n",
    "        del self._price\n",
    "h1 = House(500000)\n",
    "#print(h1.price)\n",
    "h1.price = 100000.0\n",
    "print(h1.price)\n",
    "h2 = House(100000)\n",
    "print(h2.price) \n",
    "#del h1.price\n",
    "print('Coming Here')\n",
    "print(h2.price)\n",
    "print(h1.price)"
   ]
  },
  {
   "cell_type": "code",
   "execution_count": null,
   "id": "254198ca",
   "metadata": {},
   "outputs": [],
   "source": [
    "## How to apply @property on a method so that it becomes setter and getter \n",
    "## The method chosen is full_name()"
   ]
  },
  {
   "cell_type": "code",
   "execution_count": 30,
   "id": "13036c49",
   "metadata": {},
   "outputs": [
    {
     "name": "stdout",
     "output_type": "stream",
     "text": [
      "subhas_hati@email.com\n"
     ]
    }
   ],
   "source": [
    "class Person:\n",
    "    def __init__(self, name, value):\n",
    "        self.name = name\n",
    "        self.salary = value\n",
    "    def email(self):\n",
    "        return f'{self.name}@email.com'\n",
    "p = Person('subhas_hati', 5000) \n",
    "print(p.email())"
   ]
  },
  {
   "cell_type": "code",
   "execution_count": 31,
   "id": "45b80e83",
   "metadata": {
    "collapsed": true
   },
   "outputs": [
    {
     "name": "stdout",
     "output_type": "stream",
     "text": [
      "subhas_hati@email.com\n"
     ]
    }
   ],
   "source": [
    "class Person:\n",
    "    def __init__(self, name, value):\n",
    "        self.name = name\n",
    "        self.salary = value\n",
    "    @property\n",
    "    def email(self):\n",
    "        return f'{self.name}@email.com'\n",
    "p = Person('subhas_hati', 5000) \n",
    "print(p.email)"
   ]
  },
  {
   "cell_type": "code",
   "execution_count": 32,
   "id": "91a2b9d5",
   "metadata": {},
   "outputs": [
    {
     "name": "stdout",
     "output_type": "stream",
     "text": [
      "subhas_hati@email.com\n"
     ]
    }
   ],
   "source": [
    "class Person:\n",
    "    def __init__(self, name, value):\n",
    "        self.name = name\n",
    "        self.salary = value\n",
    "    @property\n",
    "    def email(self):\n",
    "        return f'{self.name}@email.com'\n",
    "    @property\n",
    "    def full_name(self):\n",
    "        return f'{self.name}'\n",
    "    @full_name.setter\n",
    "    def full_name(self, name):\n",
    "        self.name = name\n",
    "p = Person('subhas_hati', 5000) \n",
    "print(p.email)\n",
    "p.full_name = 'Corey_Schafer'"
   ]
  },
  {
   "cell_type": "code",
   "execution_count": null,
   "id": "1be09006",
   "metadata": {},
   "outputs": [],
   "source": [
    "class Person:\n",
    "    def __init__(self, name, value):\n",
    "        self.name = name\n",
    "        self.salary = value\n",
    "    \n",
    "    def get_salary(self):\n",
    "        print(\"getting ...\")\n",
    "        return round(self._salary)\n",
    "    \n",
    "    def set_salary(self, value):\n",
    "        print(\"setting ...\")\n",
    "        if value < 0:\n",
    "            raise ValueError(\"salary canot be negative\")\n",
    "        self._salary = value\n",
    "    \n",
    "    \n",
    "    salary = property(get_salary, set_salary)\n",
    "    \n",
    "P = Person(\"Tim\", 50)\n",
    "#P.salary = 100\n",
    "print(P.salary)\n",
    "#P.set_salary(-10.5)\n",
    "#P.get_salary()"
   ]
  },
  {
   "cell_type": "code",
   "execution_count": null,
   "id": "62f56b70",
   "metadata": {},
   "outputs": [],
   "source": [
    "class Person:\n",
    "    def __init__(self, name, value):\n",
    "        self.name = name\n",
    "        self._salary = value\n",
    "    \n",
    "    @property\n",
    "    def salary(self):\n",
    "        print(\"getting\")\n",
    "        return round(self._salary)\n",
    "    @salary.setter\n",
    "    def salary(self, value):\n",
    "        print(\"setting\")\n",
    "        if salary < 0:\n",
    "            raise ValueError(\"salary canot be negative\")\n",
    "        self._salary = value\n",
    "    \n",
    "p = Person(\"Tim\", 0)\n",
    "p._salary = -120\n",
    "print(p.salary)\n",
    "#p._salary = -120\n",
    "#print(p.salary)\n",
    "    "
   ]
  },
  {
   "cell_type": "code",
   "execution_count": null,
   "id": "9a6ddcfa",
   "metadata": {
    "scrolled": false
   },
   "outputs": [],
   "source": [
    "class Time:\n",
    "    def __init__(self, second):\n",
    "        self._second = second\n",
    "    @property\n",
    "    def second(self):\n",
    "        print(\"getting\")\n",
    "        return self._second\n",
    "    @second.setter\n",
    "    def second(self, second):\n",
    "        print(\"setting\")\n",
    "        if second < 0:\n",
    "            raise ValueError(\"time should not be negative\")\n",
    "        self._second = second\n",
    "t = Time(20)\n",
    "#print(t.second)\n",
    "t.second = 150\n",
    "print(t.second)"
   ]
  },
  {
   "cell_type": "markdown",
   "id": "f4fa61b3",
   "metadata": {},
   "source": [
    "What is the purpose of setter and getter in python OOP:\n",
    "* To validate the data before assigning to attribures.\n",
    "* To constrain attribute values.\n",
    "* To hide complexity"
   ]
  },
  {
   "cell_type": "code",
   "execution_count": null,
   "id": "262ced06",
   "metadata": {},
   "outputs": [],
   "source": [
    "#using property class\n",
    "class Celsius:\n",
    "    def __init__(self, temperature=0):\n",
    "        self.temperature = temperature\n",
    "\n",
    "    def to_fahrenheit(self):\n",
    "        return (self.temperature * 1.8) + 32\n",
    "\n",
    "    # getter\n",
    "    def get_temperature(self):\n",
    "        print(\"Getting value...\")\n",
    "        return self._temperature\n",
    "\n",
    "    # setter\n",
    "    def set_temperature(self, value):\n",
    "        print(\"Setting value...\")\n",
    "        if value < -273.15:\n",
    "            raise ValueError(\"Temperature below -273.15 is not possible\")\n",
    "        self._temperature = value\n",
    "\n",
    "    # creating a property object\n",
    "    temperature = property(get_temperature, set_temperature)\n",
    "\n",
    "\n",
    "human = Celsius(37)\n",
    "\n",
    "print(human.temperature)\n",
    "\n",
    "print(human.to_fahrenheit())\n",
    "\n",
    "#human.temperature = -300"
   ]
  },
  {
   "cell_type": "code",
   "execution_count": null,
   "id": "5cfebfe5",
   "metadata": {},
   "outputs": [],
   "source": [
    "#"
   ]
  },
  {
   "cell_type": "code",
   "execution_count": 2,
   "id": "8786f64b",
   "metadata": {},
   "outputs": [],
   "source": []
  }
 ],
 "metadata": {
  "kernelspec": {
   "display_name": "Python 3 (ipykernel)",
   "language": "python",
   "name": "python3"
  },
  "language_info": {
   "codemirror_mode": {
    "name": "ipython",
    "version": 3
   },
   "file_extension": ".py",
   "mimetype": "text/x-python",
   "name": "python",
   "nbconvert_exporter": "python",
   "pygments_lexer": "ipython3",
   "version": "3.10.0"
  },
  "latex_envs": {
   "LaTeX_envs_menu_present": true,
   "autoclose": false,
   "autocomplete": true,
   "bibliofile": "biblio.bib",
   "cite_by": "apalike",
   "current_citInitial": 1,
   "eqLabelWithNumbers": true,
   "eqNumInitial": 1,
   "hotkeys": {
    "equation": "Ctrl-E",
    "itemize": "Ctrl-I"
   },
   "labels_anchors": false,
   "latex_user_defs": false,
   "report_style_numbering": false,
   "user_envs_cfg": false
  },
  "varInspector": {
   "cols": {
    "lenName": 16,
    "lenType": 16,
    "lenVar": 40
   },
   "kernels_config": {
    "python": {
     "delete_cmd_postfix": "",
     "delete_cmd_prefix": "del ",
     "library": "var_list.py",
     "varRefreshCmd": "print(var_dic_list())"
    },
    "r": {
     "delete_cmd_postfix": ") ",
     "delete_cmd_prefix": "rm(",
     "library": "var_list.r",
     "varRefreshCmd": "cat(var_dic_list()) "
    }
   },
   "types_to_exclude": [
    "module",
    "function",
    "builtin_function_or_method",
    "instance",
    "_Feature"
   ],
   "window_display": false
  }
 },
 "nbformat": 4,
 "nbformat_minor": 5
}
