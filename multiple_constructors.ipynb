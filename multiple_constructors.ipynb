{
 "cells": [
  {
   "cell_type": "markdown",
   "id": "23ef3fdd",
   "metadata": {},
   "source": [
    "Sometimes you need to write a Python class that provides multiple \n",
    "ways to construct objects. In other words, you want a class that \n",
    "implements multiple constructors. This kind of class comes in \n",
    "handy when you need to create instances using different types \n",
    "or numbers of arguments. Having the tools to provide multiple \n",
    "constructors will help you write flexible classes that can adapt \n",
    "to changing needs.\n",
    "\n",
    "In Python, there are several techniques and tools that you can \n",
    "use to construct classes, including simulating multiple \n",
    "constructors through optional arguments, customizing instance \n",
    "creation via class methods, and doing special dispatch with \n",
    "decorators. If you want to learn about these techniques and tools, \n",
    "then this tutorial is for you."
   ]
  },
  {
   "cell_type": "markdown",
   "id": "3f059688",
   "metadata": {},
   "source": [
    "* Use optional arguments and type checking to simulate multiple \n",
    "constructors <br>\n",
    "* Write multiple constructors using the built-in @classmethod decorator <br>\n",
    "\n",
    "* Overload your class constructors using the @singledispatchmethod \n",
    "decorator <br>"
   ]
  },
  {
   "cell_type": "code",
   "execution_count": 2,
   "id": "f9fcda51",
   "metadata": {},
   "outputs": [
    {
     "name": "stdout",
     "output_type": "stream",
     "text": [
      "Hello, Pythonista\n",
      "None\n",
      "{'__module__': '__main__', 'say_hello': <function Greeter.say_hello at 0x7fd74c1365f0>, '__dict__': <attribute '__dict__' of 'Greeter' objects>, '__weakref__': <attribute '__weakref__' of 'Greeter' objects>, '__doc__': None}\n"
     ]
    }
   ],
   "source": [
    "# greet.py\n",
    "\n",
    "class Greeter:\n",
    "    def say_hello(self):\n",
    "        print(\"Hello, World\")\n",
    "\n",
    "    def say_hello(self):\n",
    "        print(\"Hello, Pythonista\")\n",
    "\n",
    "g = Greeter()\n",
    "print(g.say_hello())\n",
    "print(Greeter.__dict__)"
   ]
  },
  {
   "cell_type": "code",
   "execution_count": 1,
   "id": "7865e01a",
   "metadata": {
    "collapsed": true
   },
   "outputs": [
    {
     "name": "stdout",
     "output_type": "stream",
     "text": [
      "6.283185307179586\n",
      "6.283185307179586\n"
     ]
    }
   ],
   "source": [
    "# circle.py\n",
    "\n",
    "import math\n",
    "\n",
    "class Circle:\n",
    "    def __init__(self, radius):\n",
    "        self.radius = radius\n",
    "    def perimeter(self):\n",
    "        return 2*math.pi*self.radius\n",
    "\n",
    "    @classmethod\n",
    "    def from_diameter(cls, diameter):\n",
    "        radius = diameter/2\n",
    "        return cls(radius)\n",
    "\n",
    "c = Circle.from_diameter(2)\n",
    "print(c.perimeter())\n",
    "print(2*math.pi)"
   ]
  },
  {
   "cell_type": "code",
   "execution_count": 2,
   "id": "a3967e78",
   "metadata": {},
   "outputs": [],
   "source": [
    "@classmethod\n",
    "def fromkeys(cls, iterable, value=None):\n",
    "    d = cls()\n",
    "    for key in iterable:\n",
    "        d[key] = value\n",
    "    return d"
   ]
  }
 ],
 "metadata": {
  "kernelspec": {
   "display_name": "Python 3 (ipykernel)",
   "language": "python",
   "name": "python3"
  },
  "language_info": {
   "codemirror_mode": {
    "name": "ipython",
    "version": 3
   },
   "file_extension": ".py",
   "mimetype": "text/x-python",
   "name": "python",
   "nbconvert_exporter": "python",
   "pygments_lexer": "ipython3",
   "version": "3.8.10"
  },
  "latex_envs": {
   "LaTeX_envs_menu_present": true,
   "autoclose": false,
   "autocomplete": true,
   "bibliofile": "biblio.bib",
   "cite_by": "apalike",
   "current_citInitial": 1,
   "eqLabelWithNumbers": true,
   "eqNumInitial": 1,
   "hotkeys": {
    "equation": "Ctrl-E",
    "itemize": "Ctrl-I"
   },
   "labels_anchors": false,
   "latex_user_defs": false,
   "report_style_numbering": false,
   "user_envs_cfg": false
  },
  "varInspector": {
   "cols": {
    "lenName": 16,
    "lenType": 16,
    "lenVar": 40
   },
   "kernels_config": {
    "python": {
     "delete_cmd_postfix": "",
     "delete_cmd_prefix": "del ",
     "library": "var_list.py",
     "varRefreshCmd": "print(var_dic_list())"
    },
    "r": {
     "delete_cmd_postfix": ") ",
     "delete_cmd_prefix": "rm(",
     "library": "var_list.r",
     "varRefreshCmd": "cat(var_dic_list()) "
    }
   },
   "types_to_exclude": [
    "module",
    "function",
    "builtin_function_or_method",
    "instance",
    "_Feature"
   ],
   "window_display": false
  }
 },
 "nbformat": 4,
 "nbformat_minor": 5
}
