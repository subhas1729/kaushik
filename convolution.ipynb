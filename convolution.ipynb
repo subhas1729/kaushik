{
 "cells": [
  {
   "cell_type": "markdown",
   "id": "1898c7e9",
   "metadata": {},
   "source": [
    "## There is a 5X5 Image and I have 3X3 mask."
   ]
  },
  {
   "cell_type": "markdown",
   "id": "c9b3082c",
   "metadata": {},
   "source": [
    "## Convolution operation on the image by the mask.  "
   ]
  },
  {
   "cell_type": "markdown",
   "id": "49013982",
   "metadata": {},
   "source": [
    "def pixels_under_mask(o_x, o_y, f_w, f_h, width=5, height=5):\n",
    "    start_j = o_x; start_i = o_y\n",
    "    for i in range(start_i, o_x+f_h):\n",
    "        for j in range(start_j, start_j + f_w):\n",
    "            print((i, j), end=\" \")\n",
    "        input(\"Enter\")\n",
    "        start_i = start_i + 1\n",
    "pixels_under_mask(0, 0, 3, 3)       "
   ]
  },
  {
   "cell_type": "markdown",
   "id": "afed2ff9",
   "metadata": {},
   "source": [
    "The function below generates the indices (i, j) of an image when\n",
    "the mask is pacled at (0, 0) position and the function prints \n",
    "the indices of the image under the mask."
   ]
  },
  {
   "cell_type": "code",
   "execution_count": 4,
   "id": "9074ffd0",
   "metadata": {},
   "outputs": [
    {
     "name": "stdout",
     "output_type": "stream",
     "text": [
      "(0, 0) (0, 1) (0, 2) Enter\n",
      "(1, 0) (1, 1) (1, 2) Enter\n",
      "(2, 0) (2, 1) (2, 2) Enter\n"
     ]
    }
   ],
   "source": [
    "def pixels_under_mask(o_x, o_y, f_h, f_w, width=5, height=5):\n",
    "    start_j = o_y; start_i = o_x\n",
    "    for i in range(start_i, o_x+f_h):\n",
    "        for j in range(start_j, start_j + f_w):\n",
    "            print((i, j), end= \" \")\n",
    "        input(\"Enter\")\n",
    "        start_i = start_i + 1\n",
    "    return \n",
    "pixels_under_mask(o_x=0, o_y=0, f_h=3, f_w=3, width=5, height=5)"
   ]
  },
  {
   "cell_type": "markdown",
   "id": "8aa25411",
   "metadata": {},
   "source": [
    "Image : (5 X 5)\n",
    "Mask :  (3 X 3) "
   ]
  },
  {
   "cell_type": "code",
   "execution_count": 8,
   "id": "522cb280",
   "metadata": {},
   "outputs": [
    {
     "name": "stdout",
     "output_type": "stream",
     "text": [
      "(0, 0) -- Corner of the Mask\n",
      "(0, 0) (0, 1) (0, 2) Enter\n",
      "(1, 0) (1, 1) (1, 2) Enter\n",
      "(2, 0) (2, 1) (2, 2) Enter\n",
      "(0, 1) -- Corner of the Mask\n",
      "(0, 1) (0, 2) (0, 3) Enter\n",
      "(1, 1) (1, 2) (1, 3) Enter\n",
      "(2, 1) (2, 2) (2, 3) Enter\n",
      "(1, 0) -- Corner of the Mask\n",
      "(1, 0) (1, 1) (1, 2) Enter\n",
      "(2, 0) (2, 1) (2, 2) Enter\n",
      "(3, 0) (3, 1) (3, 2) Enter\n",
      "(1, 1) -- Corner of the Mask\n",
      "(1, 1) (1, 2) (1, 3) Enter\n",
      "(2, 1) (2, 2) (2, 3) Enter\n",
      "(3, 1) (3, 2) (3, 3) Enter\n"
     ]
    }
   ],
   "source": [
    "def convolution(width, height, f_h=3, f_w=3):    \n",
    "    for u in range(height - f_h):\n",
    "        for v in range(width - f_w):\n",
    "            print(f\"{(u, v)} -- Corner of the Mask\")\n",
    "            pixels_under_mask(u, v, f_h, f_w, width, height)\n",
    "            \n",
    "convolution(width=5, height=5, f_w=3, f_h=3)"
   ]
  }
 ],
 "metadata": {
  "kernelspec": {
   "display_name": "Python 3 (ipykernel)",
   "language": "python",
   "name": "python3"
  },
  "language_info": {
   "codemirror_mode": {
    "name": "ipython",
    "version": 3
   },
   "file_extension": ".py",
   "mimetype": "text/x-python",
   "name": "python",
   "nbconvert_exporter": "python",
   "pygments_lexer": "ipython3",
   "version": "3.10.0"
  },
  "varInspector": {
   "cols": {
    "lenName": 16,
    "lenType": 16,
    "lenVar": 40
   },
   "kernels_config": {
    "python": {
     "delete_cmd_postfix": "",
     "delete_cmd_prefix": "del ",
     "library": "var_list.py",
     "varRefreshCmd": "print(var_dic_list())"
    },
    "r": {
     "delete_cmd_postfix": ") ",
     "delete_cmd_prefix": "rm(",
     "library": "var_list.r",
     "varRefreshCmd": "cat(var_dic_list()) "
    }
   },
   "types_to_exclude": [
    "module",
    "function",
    "builtin_function_or_method",
    "instance",
    "_Feature"
   ],
   "window_display": false
  }
 },
 "nbformat": 4,
 "nbformat_minor": 5
}
