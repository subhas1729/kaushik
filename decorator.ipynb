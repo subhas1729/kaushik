{
 "cells": [
  {
   "cell_type": "markdown",
   "id": "f4471ef1",
   "metadata": {},
   "source": [
    "Decorator:"
   ]
  },
  {
   "cell_type": "code",
   "execution_count": null,
   "id": "0aeee3de",
   "metadata": {},
   "outputs": [],
   "source": [
    "import time\n",
    "def time2():\n",
    "    tic = time.time()\n",
    "    def my_function():\n",
    "        for i in range(100000000):\n",
    "            pass\n",
    "    my_function()\n",
    "    toc = time.time()\n",
    "    print(f'{(toc-tic) * 1000:.3f}' + ' ms')\n",
    "time2()"
   ]
  },
  {
   "cell_type": "code",
   "execution_count": null,
   "id": "a9fd3ea2",
   "metadata": {},
   "outputs": [],
   "source": [
    "import time\n",
    "def my_function():\n",
    "    for i in range(100000000):\n",
    "            pass\n",
    "\n",
    "\n",
    "def time2(my_function):\n",
    "    tic = time.time()\n",
    "    my_function()\n",
    "    toc = time.time()\n",
    "    print(f'{(toc-tic) * 1000:.3f}' + ' ms')\n",
    "time2(my_function)"
   ]
  },
  {
   "cell_type": "code",
   "execution_count": null,
   "id": "520ae800",
   "metadata": {},
   "outputs": [],
   "source": [
    "import time\n",
    "def time2():\n",
    "    tic = time.time()\n",
    "    def my_func():\n",
    "        for i in range(1000000):\n",
    "            pass\n",
    "    my_func()\n",
    "    toc = time.time()\n",
    "    print(f'{(toc-tic)*1000:.3f}'+' ms')\n",
    "time2()"
   ]
  },
  {
   "cell_type": "markdown",
   "id": "04d87d1c",
   "metadata": {},
   "source": [
    "* Outer Function : function_decrator()\n",
    "* Inner Function : wrapped_func()\n",
    "* Note that func() to be decorated is passed as a parameter to Outer Function.\n",
    "* func() to be embedded is inside of wrapped_func().\n",
    "* Important: return statement of outer function is *wrapped_function"
   ]
  },
  {
   "cell_type": "code",
   "execution_count": null,
   "id": "71623923",
   "metadata": {},
   "outputs": [],
   "source": [
    "def function_decorator(func):\n",
    "    def wrapped_func():\n",
    "        # Do something before the function is executed\n",
    "        func()\n",
    "        # Do something after the function has been executed\n",
    "    return wrapped_func\n"
   ]
  },
  {
   "cell_type": "code",
   "execution_count": 1,
   "id": "fa8b06f0",
   "metadata": {},
   "outputs": [],
   "source": [
    "import time \n",
    "def time_decorator(func):\n",
    "    def wrapped_func():\n",
    "        tic = time.time()\n",
    "        func()\n",
    "        toc = time.time()\n",
    "        result = f'{(toc-tic)*1000:.3f} ' + 'ms'\n",
    "        return result\n",
    "    return wrapped_func"
   ]
  },
  {
   "cell_type": "code",
   "execution_count": 2,
   "id": "5808b217",
   "metadata": {},
   "outputs": [
    {
     "data": {
      "text/plain": [
       "'1994.323 ms'"
      ]
     },
     "execution_count": 2,
     "metadata": {},
     "output_type": "execute_result"
    }
   ],
   "source": [
    "import time\n",
    "@time_decorator\n",
    "def my_function():\n",
    "    for i in range(100000000):\n",
    "            pass\n",
    "print(my_function())"
   ]
  },
  {
   "cell_type": "code",
   "execution_count": null,
   "id": "5d4d2d10",
   "metadata": {},
   "outputs": [],
   "source": [
    "import time\n",
    "def time_decorator(func):\n",
    "    def wrapped_func():\n",
    "        tic = time.time()\n",
    "        func()\n",
    "        toe = time.time()\n",
    "        result =f'{(toe-tic)*1000:.3f}'+' ms'\n",
    "        return result\n",
    "    return wrapped_func"
   ]
  },
  {
   "cell_type": "code",
   "execution_count": null,
   "id": "fcce5442",
   "metadata": {},
   "outputs": [],
   "source": [
    "@time_decorator\n",
    "def f1():\n",
    "    for i in range(10000000):\n",
    "        pass\n",
    "\n",
    "print(f1())   "
   ]
  },
  {
   "cell_type": "code",
   "execution_count": null,
   "id": "887ea5f1",
   "metadata": {},
   "outputs": [],
   "source": [
    "n = 25\n",
    "@time_decorator\n",
    "def f2():\n",
    "    product = 1\n",
    "    for i, t in enumerate(range(1,n)):\n",
    "        term = i\n",
    "        product = product*term\n",
    "    return product\n",
    "f2()"
   ]
  },
  {
   "cell_type": "code",
   "execution_count": null,
   "id": "96d36a45",
   "metadata": {},
   "outputs": [],
   "source": []
  },
  {
   "cell_type": "code",
   "execution_count": null,
   "id": "033cf332",
   "metadata": {},
   "outputs": [],
   "source": [
    "def my_func():\n",
    "    for i in range(10000000):\n",
    "        pass"
   ]
  },
  {
   "cell_type": "code",
   "execution_count": null,
   "id": "959f4ff7",
   "metadata": {},
   "outputs": [],
   "source": [
    "import time\n",
    "def time2():\n",
    "    tic = time.time()\n",
    "    my_func()\n",
    "    toc = time.time()\n",
    "    print( f'{(toc - tic)*1000:.4} ' + 'ms')\n",
    "time2()"
   ]
  },
  {
   "cell_type": "code",
   "execution_count": null,
   "id": "24ba606c",
   "metadata": {},
   "outputs": [],
   "source": [
    "import time\n",
    "\n",
    "def my_func():\n",
    "    for i in range(10000000):\n",
    "        pass\n",
    "    \n",
    "def time2(my_func):\n",
    "    tic = time.time()\n",
    "    my_func()\n",
    "    toc = time.time()\n",
    "    print( f'{(toc - tic)*1000:.4} ' + 'ms')\n",
    "time2(my_func)"
   ]
  },
  {
   "cell_type": "code",
   "execution_count": null,
   "id": "22a6cb53",
   "metadata": {},
   "outputs": [],
   "source": [
    "def function_decorator(func):\n",
    "    def wrapped_func():\n",
    "        # Do something before the function is executed\n",
    "        func()\n",
    "        # Do something after the function has been executed\n",
    "    return wrapped_func\n"
   ]
  },
  {
   "cell_type": "code",
   "execution_count": null,
   "id": "bf7d2ff4",
   "metadata": {},
   "outputs": [],
   "source": [
    "@function_decorator\n",
    "def func():\n",
    "    pass"
   ]
  },
  {
   "cell_type": "code",
   "execution_count": null,
   "id": "3c727d4e",
   "metadata": {},
   "outputs": [],
   "source": [
    "def function_decorator(my_func):\n",
    "    def wrapped_function():\n",
    "        tic = time.time()\n",
    "        my_func()\n",
    "        toc = time.time()\n",
    "        print( f'{(toc - tic)*1000:.4} ' + 'ms')\n",
    "    return wrapped_function"
   ]
  },
  {
   "cell_type": "code",
   "execution_count": null,
   "id": "bda561bb",
   "metadata": {},
   "outputs": [],
   "source": [
    "@function_decorator\n",
    "def my_func():\n",
    "    for i in range(10000000):\n",
    "        pass\n",
    "    "
   ]
  }
 ],
 "metadata": {
  "kernelspec": {
   "display_name": "Python 3 (ipykernel)",
   "language": "python",
   "name": "python3"
  },
  "language_info": {
   "codemirror_mode": {
    "name": "ipython",
    "version": 3
   },
   "file_extension": ".py",
   "mimetype": "text/x-python",
   "name": "python",
   "nbconvert_exporter": "python",
   "pygments_lexer": "ipython3",
   "version": "3.10.0"
  },
  "latex_envs": {
   "LaTeX_envs_menu_present": true,
   "autoclose": false,
   "autocomplete": true,
   "bibliofile": "biblio.bib",
   "cite_by": "apalike",
   "current_citInitial": 1,
   "eqLabelWithNumbers": true,
   "eqNumInitial": 1,
   "hotkeys": {
    "equation": "Ctrl-E",
    "itemize": "Ctrl-I"
   },
   "labels_anchors": false,
   "latex_user_defs": false,
   "report_style_numbering": false,
   "user_envs_cfg": false
  },
  "varInspector": {
   "cols": {
    "lenName": 16,
    "lenType": 16,
    "lenVar": 40
   },
   "kernels_config": {
    "python": {
     "delete_cmd_postfix": "",
     "delete_cmd_prefix": "del ",
     "library": "var_list.py",
     "varRefreshCmd": "print(var_dic_list())"
    },
    "r": {
     "delete_cmd_postfix": ") ",
     "delete_cmd_prefix": "rm(",
     "library": "var_list.r",
     "varRefreshCmd": "cat(var_dic_list()) "
    }
   },
   "types_to_exclude": [
    "module",
    "function",
    "builtin_function_or_method",
    "instance",
    "_Feature"
   ],
   "window_display": false
  }
 },
 "nbformat": 4,
 "nbformat_minor": 5
}
