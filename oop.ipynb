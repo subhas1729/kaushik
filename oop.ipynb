{
 "cells": [
  {
   "cell_type": "markdown",
   "id": "084f5cf7-e909-4886-a1d8-3a2c007e1ea5",
   "metadata": {
    "tags": []
   },
   "source": [
    "# Important Terms 1. Child Class 2. Parent Class 3. Polymorphism 4. Method Overriding"
   ]
  },
  {
   "cell_type": "code",
   "execution_count": 9,
   "id": "0e41d829-9776-44a4-8053-fac70cedb7e4",
   "metadata": {
    "collapsed": true,
    "tags": []
   },
   "outputs": [
    {
     "name": "stdout",
     "output_type": "stream",
     "text": [
      "----------------\n",
      "Hello World\n",
      "----------------\n"
     ]
    }
   ],
   "source": [
    "class Person:\n",
    "    def __init__(self, first_name, last_name):\n",
    "        self.first_name = first_name\n",
    "        self.last_name = last_name\n",
    "    def say_hello(self):\n",
    "        return \"Hello World\"\n",
    "class Employee(Person):\n",
    "    def test(self):\n",
    "        print(\"test\")\n",
    "    def say_hello(self):\n",
    "        print('----------------')\n",
    "        print(super().say_hello())\n",
    "        print('----------------')\n",
    "e = Employee(\"Subhas\", \"HATI\")\n",
    "e.say_hello()"
   ]
  },
  {
   "cell_type": "code",
   "execution_count": 3,
   "id": "7943d2cf",
   "metadata": {
    "collapsed": true
   },
   "outputs": [
    {
     "name": "stdout",
     "output_type": "stream",
     "text": [
      "----------------\n",
      "Hello World\n",
      "----------------\n"
     ]
    }
   ],
   "source": [
    "class Person:\n",
    "    def __init__(self, first_name, last_name):\n",
    "        self.first_name = first_name\n",
    "        self.last_name = last_name\n",
    "    def say_hello(self):\n",
    "        return \"Hello World\"\n",
    "class Employee(Person):\n",
    "    def __init__(self, first_name, last_name, label):\n",
    "        super().__init__(first_name, last_name)\n",
    "        self.label = label\n",
    "    def test(self):\n",
    "        print(\"test\")\n",
    "    def say_hello(self):\n",
    "        print('----------------')\n",
    "        print(super().say_hello())\n",
    "        print('----------------')\n",
    "e = Employee(\"Subhas\", \"HATI\", 6)\n",
    "e.say_hello()"
   ]
  },
  {
   "cell_type": "markdown",
   "id": "77005349",
   "metadata": {},
   "source": [
    "## The method super resolution order."
   ]
  },
  {
   "cell_type": "markdown",
   "id": "5c480bc5",
   "metadata": {},
   "source": [
    "# A bad problem in Multiple Inheritance"
   ]
  },
  {
   "cell_type": "code",
   "execution_count": 9,
   "id": "3b1c7441",
   "metadata": {},
   "outputs": [],
   "source": [
    "class A:\n",
    "    pass\n",
    "class B:\n",
    "    pass\n",
    "class C(A, B):\n",
    "    def __init__(self):\n",
    "        super().__init__()\n",
    "c = C()"
   ]
  }
 ],
 "metadata": {
  "kernelspec": {
   "display_name": "Python 3 (ipykernel)",
   "language": "python",
   "name": "python3"
  },
  "language_info": {
   "codemirror_mode": {
    "name": "ipython",
    "version": 3
   },
   "file_extension": ".py",
   "mimetype": "text/x-python",
   "name": "python",
   "nbconvert_exporter": "python",
   "pygments_lexer": "ipython3",
   "version": "3.10.0"
  },
  "varInspector": {
   "cols": {
    "lenName": 16,
    "lenType": 16,
    "lenVar": 40
   },
   "kernels_config": {
    "python": {
     "delete_cmd_postfix": "",
     "delete_cmd_prefix": "del ",
     "library": "var_list.py",
     "varRefreshCmd": "print(var_dic_list())"
    },
    "r": {
     "delete_cmd_postfix": ") ",
     "delete_cmd_prefix": "rm(",
     "library": "var_list.r",
     "varRefreshCmd": "cat(var_dic_list()) "
    }
   },
   "types_to_exclude": [
    "module",
    "function",
    "builtin_function_or_method",
    "instance",
    "_Feature"
   ],
   "window_display": false
  }
 },
 "nbformat": 4,
 "nbformat_minor": 5
}
