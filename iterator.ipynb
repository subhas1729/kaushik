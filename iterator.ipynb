{
 "cells": [
  {
   "cell_type": "markdown",
   "id": "c9892746",
   "metadata": {},
   "source": [
    "A collection is a group of elements. <br>\n",
    "A container is a collection but an organised entity. <br>\n",
    "An user designed a container class.<br>\n",
    "An object of a container class can be made iterable.<br>"
   ]
  },
  {
   "cell_type": "markdown",
   "id": "b2d2c392",
   "metadata": {},
   "source": [
    "* An empty bag can be represented by an empty list.\n",
    "* The size of the bag can be represented by the size of the list.\n",
    "* Determining if the bag contains a specific item can be done using the equivalent operation."
   ]
  },
  {
   "cell_type": "code",
   "execution_count": 5,
   "id": "a61d4714",
   "metadata": {},
   "outputs": [],
   "source": [
    "class bag:\n",
    "    # an empty bag\n",
    "    def __init__(self):\n",
    "        self._theItems = list()\n",
    "        \n",
    "    def __len__(self):\n",
    "        return len(self._theItems)\n",
    "    def __contains__(self, item):\n",
    "        return item in self._theItems"
   ]
  },
  {
   "cell_type": "code",
   "execution_count": 6,
   "id": "f17f8edd",
   "metadata": {
    "collapsed": true
   },
   "outputs": [
    {
     "name": "stdout",
     "output_type": "stream",
     "text": [
      "0\n"
     ]
    }
   ],
   "source": [
    "b = bag()\n",
    "print(len(b))"
   ]
  },
  {
   "cell_type": "markdown",
   "id": "da269db8",
   "metadata": {},
   "source": [
    "* Now add an item in the list.\n",
    "* remove an item in the list."
   ]
  },
  {
   "cell_type": "code",
   "execution_count": null,
   "id": "5d59228e",
   "metadata": {},
   "outputs": [],
   "source": [
    "class bag:\n",
    "    # an empty bag\n",
    "    def __init__(self):\n",
    "        self._theItems = list()\n",
    "        \n",
    "    def __len__(self):\n",
    "        return len(self._theItems)\n",
    "    def __contains__(self, item):\n",
    "        return item in self._theItems\n",
    "    def __add__(self, item):\n",
    "        self._theItems.append(item)\n",
    "    def __remove__(self, item):\n",
    "        if item in self._theItems:\n",
    "            self._theItems.remove(item)\n",
    "        else: \n",
    "            print(\"item NOT found\")\n",
    "            \n",
    "        "
   ]
  },
  {
   "cell_type": "markdown",
   "id": "76ae3835",
   "metadata": {},
   "source": [
    "Traversals are very common operations. A traversal iterates over the entire collection\n",
    "providing access to each individual element. "
   ]
  },
  {
   "cell_type": "markdown",
   "id": "71216177",
   "metadata": {},
   "source": [
    "Python provides \"for loops\" to traverse the container types list, string, tuples and \n",
    "dictionaries.  "
   ]
  },
  {
   "cell_type": "markdown",
   "id": "f028b6da",
   "metadata": {},
   "source": [
    "Python provides an iterator object through which one can traverse the entire container.  "
   ]
  },
  {
   "cell_type": "markdown",
   "id": "4669e7bf",
   "metadata": {},
   "source": [
    "What happens when a programmer has defined a container?"
   ]
  },
  {
   "cell_type": "markdown",
   "id": "581b6ebd",
   "metadata": {},
   "source": [
    "The answer is \"Define an iterator object to traverse a user-defined container\"."
   ]
  },
  {
   "cell_type": "markdown",
   "id": "1716be13",
   "metadata": {},
   "source": [
    "Let's Implement an iterator object for class Bag. "
   ]
  },
  {
   "cell_type": "code",
   "execution_count": 1,
   "id": "95e81be9",
   "metadata": {},
   "outputs": [],
   "source": [
    "class _BagIterator:\n",
    "    def __init__(self, theList):\n",
    "        self._bagItems = theList\n",
    "        self._curItem = 0\n",
    "        \n",
    "    def __iter__(self):\n",
    "        return self \n",
    "    def __next__(self):\n",
    "        if self._curItem < len(self._bagItems):\n",
    "            item = self._bagItems[self._curItem]\n",
    "            self._curItem += 1\n",
    "            return item\n",
    "        else:\n",
    "            raise StopIteration"
   ]
  },
  {
   "cell_type": "code",
   "execution_count": 6,
   "id": "e78a3913",
   "metadata": {
    "collapsed": true
   },
   "outputs": [
    {
     "name": "stdout",
     "output_type": "stream",
     "text": [
      "1\n",
      "2\n",
      "3\n",
      "4\n"
     ]
    }
   ],
   "source": [
    "class bag:\n",
    "    # an empty bag\n",
    "    def __init__(self, lst=[]):\n",
    "        #self._theItems = list()\n",
    "        self._theItems = lst\n",
    "        \n",
    "    def __len__(self):\n",
    "        return len(self._theItems)\n",
    "    def __contains__(self, item):\n",
    "        return item in self._theItems\n",
    "    def __add__(self, item):\n",
    "        self._theItems.append(item)\n",
    "    def __remove__(self, item):\n",
    "        if item in self._theItems:\n",
    "            self._theItems.remove(item)\n",
    "        else: \n",
    "            print(\"item NOT found\")\n",
    "    def __iter__(self):\n",
    "        return _BagIterator(self._theItems)\n",
    "\n",
    "class _BagIterator:\n",
    "    def __init__(self, theList):\n",
    "        self._bagItems = theList\n",
    "        self._curItem = 0\n",
    "        \n",
    "    def __iter__(self):\n",
    "        return self \n",
    "    def __next__(self):\n",
    "        if self._curItem < len(self._bagItems):\n",
    "            item = self._bagItems[self._curItem]\n",
    "            self._curItem += 1\n",
    "            return item\n",
    "        else:\n",
    "            raise StopIteration\n",
    "lst = [1, 2, 3, 4]\n",
    "b = bag(lst)\n",
    "for i in b:\n",
    "    print(i)"
   ]
  },
  {
   "cell_type": "code",
   "execution_count": 12,
   "id": "8881a8bd",
   "metadata": {},
   "outputs": [
    {
     "name": "stdout",
     "output_type": "stream",
     "text": [
      "1\n",
      "2\n",
      "3\n",
      "4\n"
     ]
    }
   ],
   "source": [
    "class bag:\n",
    "    # an empty bag\n",
    "    def __init__(self, lst=[]):\n",
    "        #self._theItems = list()\n",
    "        self._theItems = lst\n",
    "        self._index = 0\n",
    "    def __len__(self):\n",
    "        return len(self._theItems)\n",
    "    def __contains__(self, item):\n",
    "        return item in self._theItems\n",
    "    def __add__(self, item):\n",
    "        self._theItems.append(item)\n",
    "    def __remove__(self, item):\n",
    "        if item in self._theItems:\n",
    "            self._theItems.remove(item)\n",
    "        else: \n",
    "            print(\"item NOT found\")\n",
    "    def __iter__(self):\n",
    "        return self\n",
    "    def __next__(self):\n",
    "        if self._index < len(self._theItems):\n",
    "            item = self._theItems[self._index]\n",
    "            self._index += 1\n",
    "            return item\n",
    "        else:\n",
    "            raise StopIteration\n",
    "lst = [1, 2, 3, 4]\n",
    "b = bag(lst)\n",
    "for i in b:\n",
    "    print(i)"
   ]
  }
 ],
 "metadata": {
  "kernelspec": {
   "display_name": "Python 3 (ipykernel)",
   "language": "python",
   "name": "python3"
  },
  "language_info": {
   "codemirror_mode": {
    "name": "ipython",
    "version": 3
   },
   "file_extension": ".py",
   "mimetype": "text/x-python",
   "name": "python",
   "nbconvert_exporter": "python",
   "pygments_lexer": "ipython3",
   "version": "3.10.0"
  },
  "varInspector": {
   "cols": {
    "lenName": 16,
    "lenType": 16,
    "lenVar": 40
   },
   "kernels_config": {
    "python": {
     "delete_cmd_postfix": "",
     "delete_cmd_prefix": "del ",
     "library": "var_list.py",
     "varRefreshCmd": "print(var_dic_list())"
    },
    "r": {
     "delete_cmd_postfix": ") ",
     "delete_cmd_prefix": "rm(",
     "library": "var_list.r",
     "varRefreshCmd": "cat(var_dic_list()) "
    }
   },
   "types_to_exclude": [
    "module",
    "function",
    "builtin_function_or_method",
    "instance",
    "_Feature"
   ],
   "window_display": false
  }
 },
 "nbformat": 4,
 "nbformat_minor": 5
}
