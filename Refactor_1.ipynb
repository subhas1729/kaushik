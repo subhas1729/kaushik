{
 "cells": [
  {
   "cell_type": "markdown",
   "id": "47a8b7da",
   "metadata": {},
   "source": [
    "# Refactoring"
   ]
  },
  {
   "cell_type": "code",
   "execution_count": null,
   "id": "66d7ce06",
   "metadata": {},
   "outputs": [],
   "source": [
    "if a:\n",
    "    if b:\n",
    "        pass\n",
    "\n",
    "# -> refactor\n",
    "if a and b:\n",
    "    pass"
   ]
  },
  {
   "cell_type": "code",
   "execution_count": 3,
   "id": "9e7b724b",
   "metadata": {
    "collapsed": true
   },
   "outputs": [
    {
     "name": "stdout",
     "output_type": "stream",
     "text": [
      "True\n"
     ]
    }
   ],
   "source": [
    "# 2: Use any instead of a loop\n",
    "numbers = [-1, -2, -4, 0, 3, -7]\n",
    "has_positives = False\n",
    "for n in numbers:\n",
    "    if n > 0:\n",
    "        has_positives = True\n",
    "        break\n",
    "\n",
    "# -> refactor\n",
    "has_positives = any(n > 0 for n in numbers)\n",
    "print(has_positives)"
   ]
  },
  {
   "cell_type": "markdown",
   "id": "4248f031",
   "metadata": {},
   "source": [
    "Pull statements out of for/while loops¶<br>\n",
    "A lot of times you see loops where a variable is defined inside the loop, but it never changes. These are unnecessary operations, so just pull it out of the loop and then you only have to create it once."
   ]
  },
  {
   "cell_type": "code",
   "execution_count": null,
   "id": "571c97f9",
   "metadata": {},
   "outputs": [],
   "source": [
    "for building in buildings:\n",
    "    city = 'London'\n",
    "    addresses.append(building.street_address, city)\n",
    "\n",
    "# -> refactor\n",
    "city = 'London'\n",
    "for building in buildings:\n",
    "    addresses.append(building.street_address, city)"
   ]
  },
  {
   "cell_type": "markdown",
   "id": "7301b58d",
   "metadata": {},
   "source": [
    "# 4: Remove inline variables that are only used once and are immediately returned"
   ]
  },
  {
   "cell_type": "markdown",
   "id": "54202d92",
   "metadata": {},
   "source": [
    "A lot of times you see code where a variable is defined inside a function at the end, and one line later it is immediately returned. If it’s clear what the function is doing, just return the result directly. This is more concise and avoids an unnecessessary variable. However, it can still be helpful sometimes if it’s not exactly clear what the function is doing, and then you can give your last variable a meaningful name and use it as self-documenting code."
   ]
  },
  {
   "cell_type": "code",
   "execution_count": null,
   "id": "aeddc038",
   "metadata": {},
   "outputs": [],
   "source": [
    "def state_attributes(self):\n",
    "    \"\"\"Return the state attributes.\"\"\"\n",
    "    state_attr = {\n",
    "        ATTR_CODE_FORMAT: self.code_format,\n",
    "        ATTR_CHANGED_BY: self.changed_by,\n",
    "    }\n",
    "    return state_attr\n",
    "\n",
    "# -> refactor\n",
    "def state_attributes(self):\n",
    "    \"\"\"Return the state attributes.\"\"\"\n",
    "    return {\n",
    "        ATTR_CODE_FORMAT: self.code_format,\n",
    "        ATTR_CHANGED_BY: self.changed_by,\n",
    "    }"
   ]
  },
  {
   "cell_type": "markdown",
   "id": "ee837d80",
   "metadata": {},
   "source": [
    "# 5: Replace if statement with if expression"
   ]
  },
  {
   "cell_type": "code",
   "execution_count": null,
   "id": "291a7b0a",
   "metadata": {},
   "outputs": [],
   "source": [
    "if condition:\n",
    "    x = 1\n",
    "else:\n",
    "    x = 2\n",
    "\n",
    "# -> refactor\n",
    "x = 1 if condition else 2"
   ]
  },
  {
   "cell_type": "code",
   "execution_count": null,
   "id": "10251b7f",
   "metadata": {},
   "outputs": [],
   "source": [
    "def should_i_wear_this_hat(self, hat):\n",
    "    if isinstance(hat, Hat):\n",
    "        current_fashion = get_fashion()\n",
    "        weather_outside = self.look_out_of_window()\n",
    "        is_stylish = self.evaluate_style(hat, current_fashion)\n",
    "        if weather_outside.is_raining:\n",
    "            print(\"Damn.\")\n",
    "            return True\n",
    "        else:\n",
    "            print(\"Great.\")\n",
    "            return is_stylish\n",
    "    else:\n",
    "        return False\n",
    "\n",
    "# -> refactor\n",
    "def should_i_wear_this_hat(self, hat):\n",
    "    if not isinstance(hat, Hat):\n",
    "        return False\n",
    "\n",
    "    current_fashion = get_fashion()\n",
    "    weather_outside = self.look_out_of_window()\n",
    "    is_stylish = self.evaluate_style(hat, current_fashion)\n",
    "    if weather_outside.is_raining:\n",
    "        print(\"Damn.\")\n",
    "        return True\n",
    "    else:\n",
    "        print(\"Great.\")\n",
    "        return is_stylish"
   ]
  },
  {
   "cell_type": "code",
   "execution_count": null,
   "id": "3e9f70ff",
   "metadata": {},
   "outputs": [],
   "source": [
    "if len(list_of_hats) > 0:\n",
    "    hat_to_wear = choose_hat(list_of_hats)\n",
    "\n",
    "# -> refactor\n",
    "if list_of_hats:\n",
    "    hat_to_wear = choose_hat(list_of_hats)"
   ]
  },
  {
   "cell_type": "code",
   "execution_count": null,
   "id": "e09ffbda",
   "metadata": {},
   "outputs": [],
   "source": []
  }
 ],
 "metadata": {
  "kernelspec": {
   "display_name": "Python 3 (ipykernel)",
   "language": "python",
   "name": "python3"
  },
  "language_info": {
   "codemirror_mode": {
    "name": "ipython",
    "version": 3
   },
   "file_extension": ".py",
   "mimetype": "text/x-python",
   "name": "python",
   "nbconvert_exporter": "python",
   "pygments_lexer": "ipython3",
   "version": "3.10.0"
  },
  "varInspector": {
   "cols": {
    "lenName": 16,
    "lenType": 16,
    "lenVar": 40
   },
   "kernels_config": {
    "python": {
     "delete_cmd_postfix": "",
     "delete_cmd_prefix": "del ",
     "library": "var_list.py",
     "varRefreshCmd": "print(var_dic_list())"
    },
    "r": {
     "delete_cmd_postfix": ") ",
     "delete_cmd_prefix": "rm(",
     "library": "var_list.r",
     "varRefreshCmd": "cat(var_dic_list()) "
    }
   },
   "types_to_exclude": [
    "module",
    "function",
    "builtin_function_or_method",
    "instance",
    "_Feature"
   ],
   "window_display": false
  }
 },
 "nbformat": 4,
 "nbformat_minor": 5
}
